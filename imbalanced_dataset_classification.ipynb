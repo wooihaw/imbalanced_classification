{
  "cells": [
    {
      "cell_type": "markdown",
      "metadata": {
        "id": "view-in-github",
        "colab_type": "text"
      },
      "source": [
        "<a href=\"https://colab.research.google.com/github/wooihaw/imbalanced_classification/blob/main/imbalanced_dataset_classification.ipynb\" target=\"_parent\"><img src=\"https://colab.research.google.com/assets/colab-badge.svg\" alt=\"Open In Colab\"/></a>"
      ]
    },
    {
      "cell_type": "markdown",
      "id": "9387cce5-d1d1-4c01-9ead-7edbe17bffe7",
      "metadata": {
        "id": "9387cce5-d1d1-4c01-9ead-7edbe17bffe7"
      },
      "source": [
        "## Classification of Imbalanced Dataset"
      ]
    },
    {
      "cell_type": "markdown",
      "id": "9488a4a0-fd6d-495a-8a6b-1e083556dcf7",
      "metadata": {
        "id": "9488a4a0-fd6d-495a-8a6b-1e083556dcf7"
      },
      "source": [
        "The Statlog (Shuttle) dataset, utilized prominently in machine learning for classification tasks. This dataset, composed of data derived from the space shuttle, is used for predicting the radiator position on the shuttle: whether it is in a state of radiative cooling or not. One of the primary challenges is the imbalanced distribution of classes within the dataset. The majority of the data points belong to one class (approximately 80% of the data belongs to class 1), while other classes are underrepresented. This imbalance can lead to models that are biased towards predicting the majority class, thereby reducing the overall accuracy of classification for the minority classes.s."
      ]
    },
    {
      "cell_type": "code",
      "execution_count": 1,
      "id": "a7588433-7ad8-4107-a7f8-424d5868253c",
      "metadata": {
        "tags": [],
        "id": "a7588433-7ad8-4107-a7f8-424d5868253c"
      },
      "outputs": [],
      "source": [
        "from imblearn.over_sampling import SMOTE\n",
        "from imblearn.under_sampling import RandomUnderSampler\n",
        "from sklearn.model_selection import train_test_split\n",
        "from sklearn.preprocessing import StandardScaler\n",
        "from sklearn.ensemble import RandomForestClassifier\n",
        "from sklearn.svm import SVC\n",
        "from sklearn.metrics import classification_report\n",
        "from pandas import read_csv"
      ]
    },
    {
      "cell_type": "code",
      "execution_count": 2,
      "id": "11394d95-ded3-4c81-b50c-9f54d759fe04",
      "metadata": {
        "tags": [],
        "id": "11394d95-ded3-4c81-b50c-9f54d759fe04"
      },
      "outputs": [],
      "source": [
        "# Load your dataset\n",
        "df_train = read_csv(\"shuttle_train.csv\")\n",
        "df_test = read_csv(\"shuttle_test.csv\")"
      ]
    },
    {
      "cell_type": "code",
      "execution_count": 3,
      "id": "e93cf902-875b-44e8-9d50-208ac80b6819",
      "metadata": {
        "id": "e93cf902-875b-44e8-9d50-208ac80b6819",
        "outputId": "0c29b49a-ffa9-4c35-e518-2330dccb46a0",
        "colab": {
          "base_uri": "https://localhost:8080/",
          "height": 206
        }
      },
      "outputs": [
        {
          "output_type": "execute_result",
          "data": {
            "text/plain": [
              "       Time  Rad Flow  Fpv Close  Fpv Open  High  Bypass  Bpv Close  Bpv Open  \\\n",
              "14800     4        86          0        52    10      35         34         0   \n",
              "42439     3        88          0        54    23      35         33         0   \n",
              "11953    -4        77          2        42     0      35         35         0   \n",
              "14702    -1        83          0        50     1      34         33         0   \n",
              "2903      4        97         -3        50    -3      40         48         8   \n",
              "\n",
              "       Class  \n",
              "14800      1  \n",
              "42439      1  \n",
              "11953      1  \n",
              "14702      1  \n",
              "2903       4  "
            ],
            "text/html": [
              "\n",
              "  <div id=\"df-f6f2cdca-d77c-4073-baa6-518da0684aaa\" class=\"colab-df-container\">\n",
              "    <div>\n",
              "<style scoped>\n",
              "    .dataframe tbody tr th:only-of-type {\n",
              "        vertical-align: middle;\n",
              "    }\n",
              "\n",
              "    .dataframe tbody tr th {\n",
              "        vertical-align: top;\n",
              "    }\n",
              "\n",
              "    .dataframe thead th {\n",
              "        text-align: right;\n",
              "    }\n",
              "</style>\n",
              "<table border=\"1\" class=\"dataframe\">\n",
              "  <thead>\n",
              "    <tr style=\"text-align: right;\">\n",
              "      <th></th>\n",
              "      <th>Time</th>\n",
              "      <th>Rad Flow</th>\n",
              "      <th>Fpv Close</th>\n",
              "      <th>Fpv Open</th>\n",
              "      <th>High</th>\n",
              "      <th>Bypass</th>\n",
              "      <th>Bpv Close</th>\n",
              "      <th>Bpv Open</th>\n",
              "      <th>Class</th>\n",
              "    </tr>\n",
              "  </thead>\n",
              "  <tbody>\n",
              "    <tr>\n",
              "      <th>14800</th>\n",
              "      <td>4</td>\n",
              "      <td>86</td>\n",
              "      <td>0</td>\n",
              "      <td>52</td>\n",
              "      <td>10</td>\n",
              "      <td>35</td>\n",
              "      <td>34</td>\n",
              "      <td>0</td>\n",
              "      <td>1</td>\n",
              "    </tr>\n",
              "    <tr>\n",
              "      <th>42439</th>\n",
              "      <td>3</td>\n",
              "      <td>88</td>\n",
              "      <td>0</td>\n",
              "      <td>54</td>\n",
              "      <td>23</td>\n",
              "      <td>35</td>\n",
              "      <td>33</td>\n",
              "      <td>0</td>\n",
              "      <td>1</td>\n",
              "    </tr>\n",
              "    <tr>\n",
              "      <th>11953</th>\n",
              "      <td>-4</td>\n",
              "      <td>77</td>\n",
              "      <td>2</td>\n",
              "      <td>42</td>\n",
              "      <td>0</td>\n",
              "      <td>35</td>\n",
              "      <td>35</td>\n",
              "      <td>0</td>\n",
              "      <td>1</td>\n",
              "    </tr>\n",
              "    <tr>\n",
              "      <th>14702</th>\n",
              "      <td>-1</td>\n",
              "      <td>83</td>\n",
              "      <td>0</td>\n",
              "      <td>50</td>\n",
              "      <td>1</td>\n",
              "      <td>34</td>\n",
              "      <td>33</td>\n",
              "      <td>0</td>\n",
              "      <td>1</td>\n",
              "    </tr>\n",
              "    <tr>\n",
              "      <th>2903</th>\n",
              "      <td>4</td>\n",
              "      <td>97</td>\n",
              "      <td>-3</td>\n",
              "      <td>50</td>\n",
              "      <td>-3</td>\n",
              "      <td>40</td>\n",
              "      <td>48</td>\n",
              "      <td>8</td>\n",
              "      <td>4</td>\n",
              "    </tr>\n",
              "  </tbody>\n",
              "</table>\n",
              "</div>\n",
              "    <div class=\"colab-df-buttons\">\n",
              "\n",
              "  <div class=\"colab-df-container\">\n",
              "    <button class=\"colab-df-convert\" onclick=\"convertToInteractive('df-f6f2cdca-d77c-4073-baa6-518da0684aaa')\"\n",
              "            title=\"Convert this dataframe to an interactive table.\"\n",
              "            style=\"display:none;\">\n",
              "\n",
              "  <svg xmlns=\"http://www.w3.org/2000/svg\" height=\"24px\" viewBox=\"0 -960 960 960\">\n",
              "    <path d=\"M120-120v-720h720v720H120Zm60-500h600v-160H180v160Zm220 220h160v-160H400v160Zm0 220h160v-160H400v160ZM180-400h160v-160H180v160Zm440 0h160v-160H620v160ZM180-180h160v-160H180v160Zm440 0h160v-160H620v160Z\"/>\n",
              "  </svg>\n",
              "    </button>\n",
              "\n",
              "  <style>\n",
              "    .colab-df-container {\n",
              "      display:flex;\n",
              "      gap: 12px;\n",
              "    }\n",
              "\n",
              "    .colab-df-convert {\n",
              "      background-color: #E8F0FE;\n",
              "      border: none;\n",
              "      border-radius: 50%;\n",
              "      cursor: pointer;\n",
              "      display: none;\n",
              "      fill: #1967D2;\n",
              "      height: 32px;\n",
              "      padding: 0 0 0 0;\n",
              "      width: 32px;\n",
              "    }\n",
              "\n",
              "    .colab-df-convert:hover {\n",
              "      background-color: #E2EBFA;\n",
              "      box-shadow: 0px 1px 2px rgba(60, 64, 67, 0.3), 0px 1px 3px 1px rgba(60, 64, 67, 0.15);\n",
              "      fill: #174EA6;\n",
              "    }\n",
              "\n",
              "    .colab-df-buttons div {\n",
              "      margin-bottom: 4px;\n",
              "    }\n",
              "\n",
              "    [theme=dark] .colab-df-convert {\n",
              "      background-color: #3B4455;\n",
              "      fill: #D2E3FC;\n",
              "    }\n",
              "\n",
              "    [theme=dark] .colab-df-convert:hover {\n",
              "      background-color: #434B5C;\n",
              "      box-shadow: 0px 1px 3px 1px rgba(0, 0, 0, 0.15);\n",
              "      filter: drop-shadow(0px 1px 2px rgba(0, 0, 0, 0.3));\n",
              "      fill: #FFFFFF;\n",
              "    }\n",
              "  </style>\n",
              "\n",
              "    <script>\n",
              "      const buttonEl =\n",
              "        document.querySelector('#df-f6f2cdca-d77c-4073-baa6-518da0684aaa button.colab-df-convert');\n",
              "      buttonEl.style.display =\n",
              "        google.colab.kernel.accessAllowed ? 'block' : 'none';\n",
              "\n",
              "      async function convertToInteractive(key) {\n",
              "        const element = document.querySelector('#df-f6f2cdca-d77c-4073-baa6-518da0684aaa');\n",
              "        const dataTable =\n",
              "          await google.colab.kernel.invokeFunction('convertToInteractive',\n",
              "                                                    [key], {});\n",
              "        if (!dataTable) return;\n",
              "\n",
              "        const docLinkHtml = 'Like what you see? Visit the ' +\n",
              "          '<a target=\"_blank\" href=https://colab.research.google.com/notebooks/data_table.ipynb>data table notebook</a>'\n",
              "          + ' to learn more about interactive tables.';\n",
              "        element.innerHTML = '';\n",
              "        dataTable['output_type'] = 'display_data';\n",
              "        await google.colab.output.renderOutput(dataTable, element);\n",
              "        const docLink = document.createElement('div');\n",
              "        docLink.innerHTML = docLinkHtml;\n",
              "        element.appendChild(docLink);\n",
              "      }\n",
              "    </script>\n",
              "  </div>\n",
              "\n",
              "\n",
              "<div id=\"df-042095d0-c6bf-4605-b6db-ce1d73bff508\">\n",
              "  <button class=\"colab-df-quickchart\" onclick=\"quickchart('df-042095d0-c6bf-4605-b6db-ce1d73bff508')\"\n",
              "            title=\"Suggest charts\"\n",
              "            style=\"display:none;\">\n",
              "\n",
              "<svg xmlns=\"http://www.w3.org/2000/svg\" height=\"24px\"viewBox=\"0 0 24 24\"\n",
              "     width=\"24px\">\n",
              "    <g>\n",
              "        <path d=\"M19 3H5c-1.1 0-2 .9-2 2v14c0 1.1.9 2 2 2h14c1.1 0 2-.9 2-2V5c0-1.1-.9-2-2-2zM9 17H7v-7h2v7zm4 0h-2V7h2v10zm4 0h-2v-4h2v4z\"/>\n",
              "    </g>\n",
              "</svg>\n",
              "  </button>\n",
              "\n",
              "<style>\n",
              "  .colab-df-quickchart {\n",
              "      --bg-color: #E8F0FE;\n",
              "      --fill-color: #1967D2;\n",
              "      --hover-bg-color: #E2EBFA;\n",
              "      --hover-fill-color: #174EA6;\n",
              "      --disabled-fill-color: #AAA;\n",
              "      --disabled-bg-color: #DDD;\n",
              "  }\n",
              "\n",
              "  [theme=dark] .colab-df-quickchart {\n",
              "      --bg-color: #3B4455;\n",
              "      --fill-color: #D2E3FC;\n",
              "      --hover-bg-color: #434B5C;\n",
              "      --hover-fill-color: #FFFFFF;\n",
              "      --disabled-bg-color: #3B4455;\n",
              "      --disabled-fill-color: #666;\n",
              "  }\n",
              "\n",
              "  .colab-df-quickchart {\n",
              "    background-color: var(--bg-color);\n",
              "    border: none;\n",
              "    border-radius: 50%;\n",
              "    cursor: pointer;\n",
              "    display: none;\n",
              "    fill: var(--fill-color);\n",
              "    height: 32px;\n",
              "    padding: 0;\n",
              "    width: 32px;\n",
              "  }\n",
              "\n",
              "  .colab-df-quickchart:hover {\n",
              "    background-color: var(--hover-bg-color);\n",
              "    box-shadow: 0 1px 2px rgba(60, 64, 67, 0.3), 0 1px 3px 1px rgba(60, 64, 67, 0.15);\n",
              "    fill: var(--button-hover-fill-color);\n",
              "  }\n",
              "\n",
              "  .colab-df-quickchart-complete:disabled,\n",
              "  .colab-df-quickchart-complete:disabled:hover {\n",
              "    background-color: var(--disabled-bg-color);\n",
              "    fill: var(--disabled-fill-color);\n",
              "    box-shadow: none;\n",
              "  }\n",
              "\n",
              "  .colab-df-spinner {\n",
              "    border: 2px solid var(--fill-color);\n",
              "    border-color: transparent;\n",
              "    border-bottom-color: var(--fill-color);\n",
              "    animation:\n",
              "      spin 1s steps(1) infinite;\n",
              "  }\n",
              "\n",
              "  @keyframes spin {\n",
              "    0% {\n",
              "      border-color: transparent;\n",
              "      border-bottom-color: var(--fill-color);\n",
              "      border-left-color: var(--fill-color);\n",
              "    }\n",
              "    20% {\n",
              "      border-color: transparent;\n",
              "      border-left-color: var(--fill-color);\n",
              "      border-top-color: var(--fill-color);\n",
              "    }\n",
              "    30% {\n",
              "      border-color: transparent;\n",
              "      border-left-color: var(--fill-color);\n",
              "      border-top-color: var(--fill-color);\n",
              "      border-right-color: var(--fill-color);\n",
              "    }\n",
              "    40% {\n",
              "      border-color: transparent;\n",
              "      border-right-color: var(--fill-color);\n",
              "      border-top-color: var(--fill-color);\n",
              "    }\n",
              "    60% {\n",
              "      border-color: transparent;\n",
              "      border-right-color: var(--fill-color);\n",
              "    }\n",
              "    80% {\n",
              "      border-color: transparent;\n",
              "      border-right-color: var(--fill-color);\n",
              "      border-bottom-color: var(--fill-color);\n",
              "    }\n",
              "    90% {\n",
              "      border-color: transparent;\n",
              "      border-bottom-color: var(--fill-color);\n",
              "    }\n",
              "  }\n",
              "</style>\n",
              "\n",
              "  <script>\n",
              "    async function quickchart(key) {\n",
              "      const quickchartButtonEl =\n",
              "        document.querySelector('#' + key + ' button');\n",
              "      quickchartButtonEl.disabled = true;  // To prevent multiple clicks.\n",
              "      quickchartButtonEl.classList.add('colab-df-spinner');\n",
              "      try {\n",
              "        const charts = await google.colab.kernel.invokeFunction(\n",
              "            'suggestCharts', [key], {});\n",
              "      } catch (error) {\n",
              "        console.error('Error during call to suggestCharts:', error);\n",
              "      }\n",
              "      quickchartButtonEl.classList.remove('colab-df-spinner');\n",
              "      quickchartButtonEl.classList.add('colab-df-quickchart-complete');\n",
              "    }\n",
              "    (() => {\n",
              "      let quickchartButtonEl =\n",
              "        document.querySelector('#df-042095d0-c6bf-4605-b6db-ce1d73bff508 button');\n",
              "      quickchartButtonEl.style.display =\n",
              "        google.colab.kernel.accessAllowed ? 'block' : 'none';\n",
              "    })();\n",
              "  </script>\n",
              "</div>\n",
              "\n",
              "    </div>\n",
              "  </div>\n"
            ],
            "application/vnd.google.colaboratory.intrinsic+json": {
              "type": "dataframe",
              "summary": "{\n  \"name\": \"df_train\",\n  \"rows\": 5,\n  \"fields\": [\n    {\n      \"column\": \"Time\",\n      \"properties\": {\n        \"dtype\": \"number\",\n        \"std\": 3,\n        \"min\": -4,\n        \"max\": 4,\n        \"num_unique_values\": 4,\n        \"samples\": [\n          3,\n          -1,\n          4\n        ],\n        \"semantic_type\": \"\",\n        \"description\": \"\"\n      }\n    },\n    {\n      \"column\": \"Rad Flow\",\n      \"properties\": {\n        \"dtype\": \"number\",\n        \"std\": 7,\n        \"min\": 77,\n        \"max\": 97,\n        \"num_unique_values\": 5,\n        \"samples\": [\n          88,\n          97,\n          77\n        ],\n        \"semantic_type\": \"\",\n        \"description\": \"\"\n      }\n    },\n    {\n      \"column\": \"Fpv Close\",\n      \"properties\": {\n        \"dtype\": \"number\",\n        \"std\": 1,\n        \"min\": -3,\n        \"max\": 2,\n        \"num_unique_values\": 3,\n        \"samples\": [\n          0,\n          2,\n          -3\n        ],\n        \"semantic_type\": \"\",\n        \"description\": \"\"\n      }\n    },\n    {\n      \"column\": \"Fpv Open\",\n      \"properties\": {\n        \"dtype\": \"number\",\n        \"std\": 4,\n        \"min\": 42,\n        \"max\": 54,\n        \"num_unique_values\": 4,\n        \"samples\": [\n          54,\n          50,\n          52\n        ],\n        \"semantic_type\": \"\",\n        \"description\": \"\"\n      }\n    },\n    {\n      \"column\": \"High\",\n      \"properties\": {\n        \"dtype\": \"number\",\n        \"std\": 10,\n        \"min\": -3,\n        \"max\": 23,\n        \"num_unique_values\": 5,\n        \"samples\": [\n          23,\n          -3,\n          0\n        ],\n        \"semantic_type\": \"\",\n        \"description\": \"\"\n      }\n    },\n    {\n      \"column\": \"Bypass\",\n      \"properties\": {\n        \"dtype\": \"number\",\n        \"std\": 2,\n        \"min\": 34,\n        \"max\": 40,\n        \"num_unique_values\": 3,\n        \"samples\": [\n          35,\n          34,\n          40\n        ],\n        \"semantic_type\": \"\",\n        \"description\": \"\"\n      }\n    },\n    {\n      \"column\": \"Bpv Close\",\n      \"properties\": {\n        \"dtype\": \"number\",\n        \"std\": 6,\n        \"min\": 33,\n        \"max\": 48,\n        \"num_unique_values\": 4,\n        \"samples\": [\n          33,\n          48,\n          34\n        ],\n        \"semantic_type\": \"\",\n        \"description\": \"\"\n      }\n    },\n    {\n      \"column\": \"Bpv Open\",\n      \"properties\": {\n        \"dtype\": \"number\",\n        \"std\": 3,\n        \"min\": 0,\n        \"max\": 8,\n        \"num_unique_values\": 2,\n        \"samples\": [\n          8,\n          0\n        ],\n        \"semantic_type\": \"\",\n        \"description\": \"\"\n      }\n    },\n    {\n      \"column\": \"Class\",\n      \"properties\": {\n        \"dtype\": \"number\",\n        \"std\": 1,\n        \"min\": 1,\n        \"max\": 4,\n        \"num_unique_values\": 2,\n        \"samples\": [\n          4,\n          1\n        ],\n        \"semantic_type\": \"\",\n        \"description\": \"\"\n      }\n    }\n  ]\n}"
            }
          },
          "metadata": {},
          "execution_count": 3
        }
      ],
      "source": [
        "# Print 5 random data samples in the training set\n",
        "df_train.sample(5)"
      ]
    },
    {
      "cell_type": "code",
      "execution_count": 4,
      "id": "c689657e-47bd-42fd-8dd3-2ff26731f886",
      "metadata": {
        "id": "c689657e-47bd-42fd-8dd3-2ff26731f886",
        "outputId": "94035d02-cd34-4754-a079-c9fc7fe0ac57",
        "colab": {
          "base_uri": "https://localhost:8080/"
        }
      },
      "outputs": [
        {
          "output_type": "execute_result",
          "data": {
            "text/plain": [
              "Class\n",
              "1    34108\n",
              "2       37\n",
              "3      132\n",
              "4     6748\n",
              "5     2458\n",
              "6        6\n",
              "7       11\n",
              "dtype: int64"
            ]
          },
          "metadata": {},
          "execution_count": 4
        }
      ],
      "source": [
        "# Print the class breakdown\n",
        "groups = df_train.groupby(\"Class\")\n",
        "groups.size()"
      ]
    },
    {
      "cell_type": "code",
      "execution_count": 5,
      "id": "d624133e-3bc8-4e24-9e64-444a605055fd",
      "metadata": {
        "tags": [],
        "id": "d624133e-3bc8-4e24-9e64-444a605055fd"
      },
      "outputs": [],
      "source": [
        "# Splitting the dataset\n",
        "X_train = df_train.drop(columns=[\"Class\"])\n",
        "y_train = df_train[\"Class\"]\n",
        "X_test = df_test.drop(columns=[\"Class\"])\n",
        "y_test = df_test[\"Class\"]"
      ]
    },
    {
      "cell_type": "code",
      "execution_count": 6,
      "id": "9842f55f-7fc3-4b3a-aac9-e10ca1bf5c34",
      "metadata": {
        "tags": [],
        "id": "9842f55f-7fc3-4b3a-aac9-e10ca1bf5c34"
      },
      "outputs": [],
      "source": [
        "# Scaling the features\n",
        "scaler = StandardScaler()\n",
        "X_train_scaled = scaler.fit_transform(X_train)\n",
        "X_test_scaled = scaler.transform(X_test)"
      ]
    },
    {
      "cell_type": "code",
      "execution_count": 7,
      "id": "f7a0410a-37d0-4687-8270-2d25e3c36b5d",
      "metadata": {
        "tags": [],
        "id": "f7a0410a-37d0-4687-8270-2d25e3c36b5d",
        "outputId": "6f90129f-e411-4ae4-d716-8344928714c2",
        "colab": {
          "base_uri": "https://localhost:8080/"
        }
      },
      "outputs": [
        {
          "output_type": "stream",
          "name": "stdout",
          "text": [
            "              precision    recall  f1-score   support\n",
            "\n",
            "           1       1.00      1.00      1.00     11478\n",
            "           2       1.00      0.92      0.96        13\n",
            "           3       0.95      0.97      0.96        39\n",
            "           4       1.00      1.00      1.00      2155\n",
            "           5       1.00      1.00      1.00       809\n",
            "           6       1.00      0.50      0.67         4\n",
            "           7       1.00      0.50      0.67         2\n",
            "\n",
            "    accuracy                           1.00     14500\n",
            "   macro avg       0.99      0.84      0.89     14500\n",
            "weighted avg       1.00      1.00      1.00     14500\n",
            "\n"
          ]
        }
      ],
      "source": [
        "# Training a Random Forest classifier\n",
        "rfc1 = RandomForestClassifier(n_jobs=-1)\n",
        "rfc1.fit(X_train_scaled, y_train)\n",
        "\n",
        "# Predictions and Evaluation\n",
        "predictions = rfc1.predict(X_test_scaled)\n",
        "print(classification_report(y_test, predictions))"
      ]
    },
    {
      "cell_type": "code",
      "execution_count": 8,
      "id": "56056b88-d5a0-4393-971e-346194454434",
      "metadata": {
        "tags": [],
        "id": "56056b88-d5a0-4393-971e-346194454434",
        "outputId": "c1247aa4-0acd-4af4-a13a-007f590db2bf",
        "colab": {
          "base_uri": "https://localhost:8080/"
        }
      },
      "outputs": [
        {
          "output_type": "stream",
          "name": "stdout",
          "text": [
            "              precision    recall  f1-score   support\n",
            "\n",
            "           1       1.00      1.00      1.00     11478\n",
            "           2       1.00      0.92      0.96        13\n",
            "           3       0.91      1.00      0.95        39\n",
            "           4       1.00      1.00      1.00      2155\n",
            "           5       1.00      1.00      1.00       809\n",
            "           6       1.00      1.00      1.00         4\n",
            "           7       1.00      1.00      1.00         2\n",
            "\n",
            "    accuracy                           1.00     14500\n",
            "   macro avg       0.99      0.99      0.99     14500\n",
            "weighted avg       1.00      1.00      1.00     14500\n",
            "\n"
          ]
        }
      ],
      "source": [
        "# Applying SMOTE\n",
        "smote = SMOTE()\n",
        "X_resampled, y_resampled = smote.fit_resample(X_train_scaled, y_train)\n",
        "\n",
        "# Training a Random Forest classifier\n",
        "rfc2 = RandomForestClassifier(n_jobs=-1)\n",
        "rfc2.fit(X_resampled, y_resampled)\n",
        "\n",
        "# Predictions and Evaluation\n",
        "predictions = rfc2.predict(X_test_scaled)\n",
        "print(classification_report(y_test, predictions))"
      ]
    },
    {
      "cell_type": "code",
      "execution_count": 9,
      "id": "0218f363-1a31-4664-823e-2cdde0776774",
      "metadata": {
        "tags": [],
        "id": "0218f363-1a31-4664-823e-2cdde0776774",
        "outputId": "15da1520-d0f4-4190-df19-c20a87e8dce7",
        "colab": {
          "base_uri": "https://localhost:8080/"
        }
      },
      "outputs": [
        {
          "output_type": "stream",
          "name": "stdout",
          "text": [
            "              precision    recall  f1-score   support\n",
            "\n",
            "           1       0.99      0.57      0.72     11478\n",
            "           2       0.02      0.77      0.03        13\n",
            "           3       0.10      0.64      0.18        39\n",
            "           4       0.27      0.71      0.39      2155\n",
            "           5       1.00      1.00      1.00       809\n",
            "           6       0.12      1.00      0.22         4\n",
            "           7       0.01      1.00      0.01         2\n",
            "\n",
            "    accuracy                           0.62     14500\n",
            "   macro avg       0.36      0.81      0.36     14500\n",
            "weighted avg       0.88      0.62      0.69     14500\n",
            "\n"
          ]
        }
      ],
      "source": [
        "# Applying Random Under Sampler\n",
        "rus = RandomUnderSampler()\n",
        "X_resampled, y_resampled = rus.fit_resample(X_train_scaled, y_train)\n",
        "\n",
        "# Training a Random Forest classifier\n",
        "rfc3 = RandomForestClassifier(n_jobs=-1)\n",
        "rfc3.fit(X_resampled, y_resampled)\n",
        "\n",
        "# Predictions and Evaluation\n",
        "predictions = rfc3.predict(X_test_scaled)\n",
        "print(classification_report(y_test, predictions))"
      ]
    },
    {
      "cell_type": "code",
      "execution_count": 10,
      "id": "98305dff-140c-4374-8a74-68a686a49bf0",
      "metadata": {
        "tags": [],
        "id": "98305dff-140c-4374-8a74-68a686a49bf0",
        "outputId": "dd6a8a67-8d21-47bf-edf5-ea036967305c",
        "colab": {
          "base_uri": "https://localhost:8080/"
        }
      },
      "outputs": [
        {
          "output_type": "stream",
          "name": "stdout",
          "text": [
            "              precision    recall  f1-score   support\n",
            "\n",
            "           1       1.00      1.00      1.00     11478\n",
            "           2       1.00      0.92      0.96        13\n",
            "           3       0.93      0.97      0.95        39\n",
            "           4       1.00      1.00      1.00      2155\n",
            "           5       1.00      1.00      1.00       809\n",
            "           6       1.00      1.00      1.00         4\n",
            "           7       1.00      1.00      1.00         2\n",
            "\n",
            "    accuracy                           1.00     14500\n",
            "   macro avg       0.99      0.99      0.99     14500\n",
            "weighted avg       1.00      1.00      1.00     14500\n",
            "\n"
          ]
        }
      ],
      "source": [
        "# Adjusting class weights\n",
        "rfc4 = RandomForestClassifier(class_weight='balanced', n_jobs=-1)\n",
        "rfc4.fit(X_train_scaled, y_train)\n",
        "\n",
        "# Predictions and Evaluation\n",
        "predictions = rfc4.predict(X_test_scaled)\n",
        "print(classification_report(y_test, predictions))"
      ]
    },
    {
      "cell_type": "code",
      "execution_count": 11,
      "id": "19e8ccc5-3b2b-46b1-b525-22fc4b8b5380",
      "metadata": {
        "id": "19e8ccc5-3b2b-46b1-b525-22fc4b8b5380",
        "outputId": "cbb3ba4d-e7bc-4229-a9a9-271f87cc6fbe",
        "colab": {
          "base_uri": "https://localhost:8080/"
        }
      },
      "outputs": [
        {
          "output_type": "stream",
          "name": "stdout",
          "text": [
            "              precision    recall  f1-score   support\n",
            "\n",
            "           1       1.00      0.99      0.99     11478\n",
            "           2       0.81      1.00      0.90        13\n",
            "           3       0.67      0.97      0.79        39\n",
            "           4       0.96      1.00      0.98      2155\n",
            "           5       0.98      1.00      0.99       809\n",
            "           6       1.00      0.25      0.40         4\n",
            "           7       0.67      1.00      0.80         2\n",
            "\n",
            "    accuracy                           0.99     14500\n",
            "   macro avg       0.87      0.89      0.84     14500\n",
            "weighted avg       0.99      0.99      0.99     14500\n",
            "\n"
          ]
        }
      ],
      "source": [
        "# SVM with class weight adjustment\n",
        "svm = SVC(kernel='rbf', class_weight='balanced', random_state=42)\n",
        "svm.fit(X_train_scaled, y_train)\n",
        "\n",
        "# Predictions and Evaluation\n",
        "predictions = svm.predict(X_test_scaled)\n",
        "print(classification_report(y_test, predictions))"
      ]
    }
  ],
  "metadata": {
    "kernelspec": {
      "display_name": "Python 3 (ipykernel)",
      "language": "python",
      "name": "python3"
    },
    "language_info": {
      "codemirror_mode": {
        "name": "ipython",
        "version": 3
      },
      "file_extension": ".py",
      "mimetype": "text/x-python",
      "name": "python",
      "nbconvert_exporter": "python",
      "pygments_lexer": "ipython3",
      "version": "3.12.2"
    },
    "colab": {
      "provenance": [],
      "include_colab_link": true
    }
  },
  "nbformat": 4,
  "nbformat_minor": 5
}