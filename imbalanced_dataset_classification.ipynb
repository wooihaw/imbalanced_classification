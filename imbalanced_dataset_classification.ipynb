{
 "cells": [
  {
   "cell_type": "markdown",
   "id": "9387cce5-d1d1-4c01-9ead-7edbe17bffe7",
   "metadata": {},
   "source": [
    "## Classification of Imbalanced Dataset"
   ]
  },
  {
   "cell_type": "markdown",
   "id": "9488a4a0-fd6d-495a-8a6b-1e083556dcf7",
   "metadata": {},
   "source": [
    "The Statlog (Shuttle) dataset, utilized prominently in machine learning for classification tasks. This dataset, composed of data derived from the space shuttle, is used for predicting the radiator position on the shuttle: whether it is in a state of radiative cooling or not. One of the primary challenges is the imbalanced distribution of classes within the dataset. The majority of the data points belong to one class (approximately 80% of the data belongs to class 1), while other classes are underrepresented. This imbalance can lead to models that are biased towards predicting the majority class, thereby reducing the overall accuracy of classification for the minority classes.s."
   ]
  },
  {
   "cell_type": "code",
   "execution_count": 1,
   "id": "a7588433-7ad8-4107-a7f8-424d5868253c",
   "metadata": {
    "tags": []
   },
   "outputs": [],
   "source": [
    "from imblearn.over_sampling import SMOTE\n",
    "from imblearn.under_sampling import RandomUnderSampler\n",
    "from sklearn.model_selection import train_test_split\n",
    "from sklearn.preprocessing import StandardScaler\n",
    "from sklearn.ensemble import RandomForestClassifier\n",
    "from sklearn.svm import SVC\n",
    "from sklearn.metrics import classification_report\n",
    "from pandas import read_csv"
   ]
  },
  {
   "cell_type": "code",
   "execution_count": 2,
   "id": "11394d95-ded3-4c81-b50c-9f54d759fe04",
   "metadata": {
    "tags": []
   },
   "outputs": [],
   "source": [
    "# Load your dataset\n",
    "df_train = read_csv(\"shuttle_train.csv\")\n",
    "df_test = read_csv(\"shuttle_test.csv\")"
   ]
  },
  {
   "cell_type": "code",
   "execution_count": 3,
   "id": "e93cf902-875b-44e8-9d50-208ac80b6819",
   "metadata": {},
   "outputs": [
    {
     "data": {
      "text/html": [
       "<div>\n",
       "<style scoped>\n",
       "    .dataframe tbody tr th:only-of-type {\n",
       "        vertical-align: middle;\n",
       "    }\n",
       "\n",
       "    .dataframe tbody tr th {\n",
       "        vertical-align: top;\n",
       "    }\n",
       "\n",
       "    .dataframe thead th {\n",
       "        text-align: right;\n",
       "    }\n",
       "</style>\n",
       "<table border=\"1\" class=\"dataframe\">\n",
       "  <thead>\n",
       "    <tr style=\"text-align: right;\">\n",
       "      <th></th>\n",
       "      <th>Time</th>\n",
       "      <th>Rad Flow</th>\n",
       "      <th>Fpv Close</th>\n",
       "      <th>Fpv Open</th>\n",
       "      <th>High</th>\n",
       "      <th>Bypass</th>\n",
       "      <th>Bpv Close</th>\n",
       "      <th>Bpv Open</th>\n",
       "      <th>Class</th>\n",
       "    </tr>\n",
       "  </thead>\n",
       "  <tbody>\n",
       "    <tr>\n",
       "      <th>22943</th>\n",
       "      <td>0</td>\n",
       "      <td>77</td>\n",
       "      <td>0</td>\n",
       "      <td>46</td>\n",
       "      <td>-9</td>\n",
       "      <td>28</td>\n",
       "      <td>30</td>\n",
       "      <td>2</td>\n",
       "      <td>1</td>\n",
       "    </tr>\n",
       "    <tr>\n",
       "      <th>27506</th>\n",
       "      <td>0</td>\n",
       "      <td>86</td>\n",
       "      <td>-4</td>\n",
       "      <td>42</td>\n",
       "      <td>1</td>\n",
       "      <td>45</td>\n",
       "      <td>44</td>\n",
       "      <td>0</td>\n",
       "      <td>1</td>\n",
       "    </tr>\n",
       "    <tr>\n",
       "      <th>19151</th>\n",
       "      <td>2</td>\n",
       "      <td>79</td>\n",
       "      <td>0</td>\n",
       "      <td>42</td>\n",
       "      <td>7</td>\n",
       "      <td>38</td>\n",
       "      <td>38</td>\n",
       "      <td>0</td>\n",
       "      <td>1</td>\n",
       "    </tr>\n",
       "    <tr>\n",
       "      <th>13633</th>\n",
       "      <td>0</td>\n",
       "      <td>80</td>\n",
       "      <td>3</td>\n",
       "      <td>26</td>\n",
       "      <td>0</td>\n",
       "      <td>43</td>\n",
       "      <td>54</td>\n",
       "      <td>10</td>\n",
       "      <td>1</td>\n",
       "    </tr>\n",
       "    <tr>\n",
       "      <th>6808</th>\n",
       "      <td>0</td>\n",
       "      <td>97</td>\n",
       "      <td>0</td>\n",
       "      <td>46</td>\n",
       "      <td>-15</td>\n",
       "      <td>41</td>\n",
       "      <td>50</td>\n",
       "      <td>8</td>\n",
       "      <td>4</td>\n",
       "    </tr>\n",
       "  </tbody>\n",
       "</table>\n",
       "</div>"
      ],
      "text/plain": [
       "       Time  Rad Flow  Fpv Close  Fpv Open  High  Bypass  Bpv Close  Bpv Open  \\\n",
       "22943     0        77          0        46    -9      28         30         2   \n",
       "27506     0        86         -4        42     1      45         44         0   \n",
       "19151     2        79          0        42     7      38         38         0   \n",
       "13633     0        80          3        26     0      43         54        10   \n",
       "6808      0        97          0        46   -15      41         50         8   \n",
       "\n",
       "       Class  \n",
       "22943      1  \n",
       "27506      1  \n",
       "19151      1  \n",
       "13633      1  \n",
       "6808       4  "
      ]
     },
     "execution_count": 3,
     "metadata": {},
     "output_type": "execute_result"
    }
   ],
   "source": [
    "# Print 5 random data samples in the training set\n",
    "df_train.sample(5)"
   ]
  },
  {
   "cell_type": "code",
   "execution_count": 4,
   "id": "c689657e-47bd-42fd-8dd3-2ff26731f886",
   "metadata": {},
   "outputs": [
    {
     "data": {
      "text/plain": [
       "Class\n",
       "1    34108\n",
       "2       37\n",
       "3      132\n",
       "4     6748\n",
       "5     2458\n",
       "6        6\n",
       "7       11\n",
       "dtype: int64"
      ]
     },
     "execution_count": 4,
     "metadata": {},
     "output_type": "execute_result"
    }
   ],
   "source": [
    "# Print the class breakdown\n",
    "groups = df_train.groupby(\"Class\")\n",
    "groups.size()"
   ]
  },
  {
   "cell_type": "code",
   "execution_count": 5,
   "id": "d624133e-3bc8-4e24-9e64-444a605055fd",
   "metadata": {
    "tags": []
   },
   "outputs": [],
   "source": [
    "# Splitting the dataset\n",
    "X_train = df_train.drop(columns=[\"Class\"])\n",
    "y_train = df_train[\"Class\"]\n",
    "X_test = df_test.drop(columns=[\"Class\"])\n",
    "y_test = df_test[\"Class\"]"
   ]
  },
  {
   "cell_type": "code",
   "execution_count": 6,
   "id": "9842f55f-7fc3-4b3a-aac9-e10ca1bf5c34",
   "metadata": {
    "tags": []
   },
   "outputs": [],
   "source": [
    "# Scaling the features\n",
    "scaler = StandardScaler()\n",
    "X_train_scaled = scaler.fit_transform(X_train)\n",
    "X_test_scaled = scaler.transform(X_test)"
   ]
  },
  {
   "cell_type": "code",
   "execution_count": 7,
   "id": "f7a0410a-37d0-4687-8270-2d25e3c36b5d",
   "metadata": {
    "tags": []
   },
   "outputs": [
    {
     "name": "stdout",
     "output_type": "stream",
     "text": [
      "              precision    recall  f1-score   support\n",
      "\n",
      "           1       1.00      1.00      1.00     11478\n",
      "           2       1.00      0.92      0.96        13\n",
      "           3       0.95      1.00      0.97        39\n",
      "           4       1.00      1.00      1.00      2155\n",
      "           5       1.00      1.00      1.00       809\n",
      "           6       1.00      0.50      0.67         4\n",
      "           7       1.00      0.50      0.67         2\n",
      "\n",
      "    accuracy                           1.00     14500\n",
      "   macro avg       0.99      0.85      0.90     14500\n",
      "weighted avg       1.00      1.00      1.00     14500\n",
      "\n"
     ]
    }
   ],
   "source": [
    "# Training a Random Forest classifier\n",
    "rfc1 = RandomForestClassifier(n_jobs=-1)\n",
    "rfc1.fit(X_train_scaled, y_train)\n",
    "\n",
    "# Predictions and Evaluation\n",
    "predictions = rfc1.predict(X_test_scaled)\n",
    "print(classification_report(y_test, predictions))"
   ]
  },
  {
   "cell_type": "code",
   "execution_count": 8,
   "id": "56056b88-d5a0-4393-971e-346194454434",
   "metadata": {
    "tags": []
   },
   "outputs": [
    {
     "name": "stdout",
     "output_type": "stream",
     "text": [
      "              precision    recall  f1-score   support\n",
      "\n",
      "           1       1.00      1.00      1.00     11478\n",
      "           2       1.00      0.92      0.96        13\n",
      "           3       0.93      1.00      0.96        39\n",
      "           4       1.00      1.00      1.00      2155\n",
      "           5       1.00      1.00      1.00       809\n",
      "           6       1.00      1.00      1.00         4\n",
      "           7       1.00      1.00      1.00         2\n",
      "\n",
      "    accuracy                           1.00     14500\n",
      "   macro avg       0.99      0.99      0.99     14500\n",
      "weighted avg       1.00      1.00      1.00     14500\n",
      "\n"
     ]
    }
   ],
   "source": [
    "# Applying SMOTE\n",
    "smote = SMOTE()\n",
    "X_resampled, y_resampled = smote.fit_resample(X_train_scaled, y_train)\n",
    "\n",
    "# Training a Random Forest classifier\n",
    "rfc2 = RandomForestClassifier(n_jobs=-1)\n",
    "rfc2.fit(X_resampled, y_resampled)\n",
    "\n",
    "# Predictions and Evaluation\n",
    "predictions = rfc2.predict(X_test_scaled)\n",
    "print(classification_report(y_test, predictions))"
   ]
  },
  {
   "cell_type": "code",
   "execution_count": 9,
   "id": "0218f363-1a31-4664-823e-2cdde0776774",
   "metadata": {
    "tags": []
   },
   "outputs": [
    {
     "name": "stdout",
     "output_type": "stream",
     "text": [
      "              precision    recall  f1-score   support\n",
      "\n",
      "           1       0.97      0.79      0.87     11478\n",
      "           2       0.01      0.69      0.02        13\n",
      "           3       0.06      0.69      0.11        39\n",
      "           4       0.52      0.68      0.59      2155\n",
      "           5       0.99      0.99      0.99       809\n",
      "           6       0.03      1.00      0.05         4\n",
      "           7       0.33      1.00      0.50         2\n",
      "\n",
      "    accuracy                           0.78     14500\n",
      "   macro avg       0.42      0.84      0.45     14500\n",
      "weighted avg       0.90      0.78      0.83     14500\n",
      "\n"
     ]
    }
   ],
   "source": [
    "# Applying Random Under Sampler\n",
    "rus = RandomUnderSampler()\n",
    "X_resampled, y_resampled = rus.fit_resample(X_train_scaled, y_train)\n",
    "\n",
    "# Training a Random Forest classifier\n",
    "rfc3 = RandomForestClassifier(n_jobs=-1)\n",
    "rfc3.fit(X_resampled, y_resampled)\n",
    "\n",
    "# Predictions and Evaluation\n",
    "predictions = rfc3.predict(X_test_scaled)\n",
    "print(classification_report(y_test, predictions))"
   ]
  },
  {
   "cell_type": "code",
   "execution_count": 10,
   "id": "98305dff-140c-4374-8a74-68a686a49bf0",
   "metadata": {
    "tags": []
   },
   "outputs": [
    {
     "name": "stdout",
     "output_type": "stream",
     "text": [
      "              precision    recall  f1-score   support\n",
      "\n",
      "           1       1.00      1.00      1.00     11478\n",
      "           2       1.00      0.92      0.96        13\n",
      "           3       0.93      0.97      0.95        39\n",
      "           4       1.00      1.00      1.00      2155\n",
      "           5       1.00      1.00      1.00       809\n",
      "           6       1.00      1.00      1.00         4\n",
      "           7       1.00      1.00      1.00         2\n",
      "\n",
      "    accuracy                           1.00     14500\n",
      "   macro avg       0.99      0.99      0.99     14500\n",
      "weighted avg       1.00      1.00      1.00     14500\n",
      "\n"
     ]
    }
   ],
   "source": [
    "# Adjusting class weights\n",
    "rfc4 = RandomForestClassifier(class_weight='balanced', n_jobs=-1)\n",
    "rfc4.fit(X_train_scaled, y_train)\n",
    "\n",
    "# Predictions and Evaluation\n",
    "predictions = rfc4.predict(X_test_scaled)\n",
    "print(classification_report(y_test, predictions))"
   ]
  },
  {
   "cell_type": "code",
   "execution_count": 11,
   "id": "19e8ccc5-3b2b-46b1-b525-22fc4b8b5380",
   "metadata": {},
   "outputs": [
    {
     "name": "stdout",
     "output_type": "stream",
     "text": [
      "              precision    recall  f1-score   support\n",
      "\n",
      "           1       1.00      0.99      0.99     11478\n",
      "           2       0.81      1.00      0.90        13\n",
      "           3       0.67      0.97      0.79        39\n",
      "           4       0.96      1.00      0.98      2155\n",
      "           5       0.98      1.00      0.99       809\n",
      "           6       1.00      0.25      0.40         4\n",
      "           7       0.67      1.00      0.80         2\n",
      "\n",
      "    accuracy                           0.99     14500\n",
      "   macro avg       0.87      0.89      0.84     14500\n",
      "weighted avg       0.99      0.99      0.99     14500\n",
      "\n"
     ]
    }
   ],
   "source": [
    "# SVM with class weight adjustment\n",
    "svm = SVC(kernel='rbf', class_weight='balanced', random_state=42)\n",
    "svm.fit(X_train_scaled, y_train)\n",
    "\n",
    "# Predictions and Evaluation\n",
    "predictions = svm.predict(X_test_scaled)\n",
    "print(classification_report(y_test, predictions))"
   ]
  }
 ],
 "metadata": {
  "kernelspec": {
   "display_name": "Python 3 (ipykernel)",
   "language": "python",
   "name": "python3"
  },
  "language_info": {
   "codemirror_mode": {
    "name": "ipython",
    "version": 3
   },
   "file_extension": ".py",
   "mimetype": "text/x-python",
   "name": "python",
   "nbconvert_exporter": "python",
   "pygments_lexer": "ipython3",
   "version": "3.12.2"
  }
 },
 "nbformat": 4,
 "nbformat_minor": 5
}
